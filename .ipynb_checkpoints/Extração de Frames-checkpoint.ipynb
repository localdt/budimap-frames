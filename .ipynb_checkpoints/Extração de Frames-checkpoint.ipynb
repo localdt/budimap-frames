{
 "cells": [
  {
   "cell_type": "markdown",
   "id": "64b02cf9",
   "metadata": {},
   "source": [
    "# Extração de Frames #"
   ]
  },
  {
   "cell_type": "markdown",
   "id": "ae995061",
   "metadata": {},
   "source": [
    "Inserir vídeo e extrair imagens frame a frame"
   ]
  },
  {
   "cell_type": "code",
   "execution_count": 3,
   "id": "6b6bfbd6",
   "metadata": {},
   "outputs": [],
   "source": [
    "import cv2\n",
    "import os.path as osp\n",
    "import os"
   ]
  },
  {
   "cell_type": "code",
   "execution_count": 16,
   "id": "b4668f99",
   "metadata": {},
   "outputs": [],
   "source": [
    "#path_in = \"C:\\\\Users\\\\LDT\\\\Documents\\\\GitHub\\\\budimap-frames\\\\input\\\\\"\n",
    "#path_out = \"C:\\\\Users\\\\LDT\\\\Documents\\\\GitHub\\\\budimap-frames\\\\output\\\\\"\n",
    "path_in = \"C:\\\\Users\\\\LDT\\\\Downloads\\\\Videos JL-20230506T151259Z-001\\\\Videos JL\\\\\"\n",
    "path_out = \"C:\\\\Users\\\\LDT\\\\Documents\\\\GitHub\\\\budimap-frames\\\\output\\\\\"\n"
   ]
  },
  {
   "cell_type": "code",
   "execution_count": 1,
   "id": "28942a91",
   "metadata": {},
   "outputs": [],
   "source": [
    "vidcap = cv2.VideoCapture(path_in)\n",
    "\n",
    "cont,image = vidcap.read()\n",
    "i = 0\n",
    "while cont:\n",
    "  #salvar frame em .png\n",
    "  cv2.imwrite(osp.join(path_out,\"frame_%d.png\" % i), image)     \n",
    "  cont,image = vidcap.read()\n",
    "  i += 1"
   ]
  },
  {
   "cell_type": "code",
   "execution_count": 4,
   "id": "f4f8af4d",
   "metadata": {},
   "outputs": [],
   "source": []
  },
  {
   "cell_type": "code",
   "execution_count": 22,
   "id": "a848d89d",
   "metadata": {},
   "outputs": [],
   "source": [
    "#Copiar nome das subpastas dentro da pasta PATH_IN\n",
    "sub_folders_path_in = [name for name in os.listdir(path_in) if os.path.isdir(os.path.join(path_in, name))]"
   ]
  },
  {
   "cell_type": "code",
   "execution_count": 23,
   "id": "265ac468",
   "metadata": {},
   "outputs": [],
   "source": [
    "#Gerar caminho de subpastas dentro da pasta PATH_OUT baseado nos nomes da PATH_IN\n",
    "sub_folders_path_out = []\n",
    "for sub_folder in sub_folders_path_in:\n",
    "    sub_folders_path_out.append(path_out + '\\\\' + sub_folder)"
   ]
  },
  {
   "cell_type": "code",
   "execution_count": 30,
   "id": "cfab48e5",
   "metadata": {},
   "outputs": [
    {
     "name": "stdout",
     "output_type": "stream",
     "text": [
      "C:\\Users\\LDT\\Documents\\GitHub\\budimap-frames\\output\\Axillare IP\n",
      "C:\\Users\\LDT\\Documents\\GitHub\\budimap-frames\\output\\Frondosum IP\n",
      "C:\\Users\\LDT\\Documents\\GitHub\\budimap-frames\\output\\Trispinosus TP\n",
      "C:\\Users\\LDT\\Documents\\GitHub\\budimap-frames\\output\\Zelindae IP\n",
      "C:\\Users\\LDT\\Documents\\GitHub\\budimap-frames\\output\\Zelindae TP\n"
     ]
    }
   ],
   "source": [
    "#Criando subpastas na pasta PATH_OUT com base no PATH_IN\n",
    "for sub_folder_path_out in sub_folders_path_out:\n",
    "    if not os.path.exists(sub_folder_path_out):\n",
    "        print(sub_folder_path_out)\n",
    "        os.makedirs(sub_folder_path_out)    \n",
    "    "
   ]
  }
 ],
 "metadata": {
  "kernelspec": {
   "display_name": "Python 3",
   "language": "python",
   "name": "python3"
  },
  "language_info": {
   "codemirror_mode": {
    "name": "ipython",
    "version": 3
   },
   "file_extension": ".py",
   "mimetype": "text/x-python",
   "name": "python",
   "nbconvert_exporter": "python",
   "pygments_lexer": "ipython3",
   "version": "3.8.10"
  }
 },
 "nbformat": 4,
 "nbformat_minor": 5
}
