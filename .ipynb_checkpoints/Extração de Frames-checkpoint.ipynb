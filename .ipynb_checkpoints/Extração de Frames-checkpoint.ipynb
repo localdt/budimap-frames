{
 "cells": [
  {
   "cell_type": "markdown",
   "id": "64b02cf9",
   "metadata": {},
   "source": [
    "# Extração de Frames #"
   ]
  },
  {
   "cell_type": "markdown",
   "id": "ae995061",
   "metadata": {},
   "source": [
    "### Inserir vídeo e extrair imagens frame a frame"
   ]
  },
  {
   "cell_type": "markdown",
   "id": "cc4cbdd3",
   "metadata": {},
   "source": [
    "Bibliotecas utilizadas:"
   ]
  },
  {
   "cell_type": "code",
   "execution_count": 54,
   "id": "97f4f587",
   "metadata": {},
   "outputs": [],
   "source": [
    "import cv2\n",
    "import os.path as osp\n",
    "import os"
   ]
  },
  {
   "cell_type": "markdown",
   "id": "ee5be5bc",
   "metadata": {},
   "source": [
    "Mapeando pastas com vídeos:"
   ]
  },
  {
   "cell_type": "code",
   "execution_count": 55,
   "id": "517db480",
   "metadata": {},
   "outputs": [],
   "source": [
    "path_in = \"C:\\\\Users\\\\LDT\\\\Documents\\\\GitHub\\\\budimap-frames\\\\input\\\\\"\n",
    "path_out = \"C:\\\\Users\\\\LDT\\\\Documents\\\\GitHub\\\\budimap-frames\\\\output\\\\\""
   ]
  },
  {
   "cell_type": "markdown",
   "id": "2ae87894",
   "metadata": {},
   "source": [
    "Iterando pastas de input, lendo vídeos, gravando imagens dos frames do vídeo nas pasta de output:"
   ]
  },
  {
   "cell_type": "code",
   "execution_count": 75,
   "id": "8ecca9e8",
   "metadata": {},
   "outputs": [],
   "source": [
    "#Buscando pastas com vídeos de input\n",
    "folders_path_in = [name for name in os.listdir(path_in) if os.path.isdir(os.path.join(path_in, name))]\n",
    "\n",
    "for folder_path_in in folders_path_in:\n",
    "    #Definindo caminho para gravar output baseado nas pastas do input\n",
    "    folder_path_out = os.path.join(path_out,folder_path_in)\n",
    "    #Buscando vídeos dentro de cada pasta do input\n",
    "    files_path_in = [name for name in os.listdir(os.path.join(path_in,folder_path_in)) if os.path.isfile(os.path.join(path_in, folder_path_in, name))]\n",
    "    for file_path_in in files_path_in:\n",
    "        #Definindo caminho completo para o input baseado na pasta raíz + sub pasta + nome do vídeo\n",
    "        new_path_in = os.path.join(path_in, folder_path_in, file_path_in)\n",
    "        #Definindo caminho completo para o output baseado na pasta raíz + sub pasta + subpasta com nome do vídeo. Dentro da pasta com o nome do vídeo ficarão os frames\n",
    "        new_path_out = os.path.join(folder_path_out, file_path_in[:-4])\n",
    "        #Criando pastas do output\n",
    "        os.makedirs(new_path_out, exist_ok = True)\n",
    "        \n",
    "        #Acessando vídeo\n",
    "        vidcap = cv2.VideoCapture(new_path_in)\n",
    "        #Lendo vídeo\n",
    "        cont,image = vidcap.read()\n",
    "        i = 0\n",
    "        while cont:\n",
    "            #A cada 3 frames, gravar imagem.\n",
    "            if i%3 == 0:\n",
    "                #salvar frame em .png\n",
    "                cv2.imwrite(osp.join(new_path_out,\"frame_%d.png\" % i), image)     \n",
    "            cont,image = vidcap.read()\n",
    "            i += 1"
   ]
  }
 ],
 "metadata": {
  "kernelspec": {
   "display_name": "Python 3",
   "language": "python",
   "name": "python3"
  },
  "language_info": {
   "codemirror_mode": {
    "name": "ipython",
    "version": 3
   },
   "file_extension": ".py",
   "mimetype": "text/x-python",
   "name": "python",
   "nbconvert_exporter": "python",
   "pygments_lexer": "ipython3",
   "version": "3.8.10"
  }
 },
 "nbformat": 4,
 "nbformat_minor": 5
}
