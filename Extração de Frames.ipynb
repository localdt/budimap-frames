{
 "cells": [
  {
   "cell_type": "markdown",
   "id": "64b02cf9",
   "metadata": {},
   "source": [
    "# Extração de Frames #"
   ]
  },
  {
   "cell_type": "markdown",
   "id": "ae995061",
   "metadata": {},
   "source": [
    "Inserir vídeo e extrair imagens frame a frame"
   ]
  },
  {
   "cell_type": "code",
   "execution_count": 1,
   "id": "28942a91",
   "metadata": {},
   "outputs": [],
   "source": [
    "import cv2\n",
    "import os.path as osp\n",
    "\n",
    "path_in = \"C:\\\\Users\\\\LDT\\\\Documents\\\\GitHub\\\\budioes-map-frame\\\\input\\\\GH010241.MP4\"\n",
    "path_out = \"C:\\\\Users\\\\LDT\\\\Documents\\\\GitHub\\\\budioes-map-frame\\\\output\"\n",
    "\n",
    "vidcap = cv2.VideoCapture(path_in)\n",
    "\n",
    "cont,image = vidcap.read()\n",
    "i = 0\n",
    "while cont:\n",
    "  cv2.imwrite(osp.join(path_out,\"frame_%d.png\" % i), image)     #salvar frame em .png\n",
    "  cont,image = vidcap.read()\n",
    "  i += 1"
   ]
  }
 ],
 "metadata": {
  "kernelspec": {
   "display_name": "Python 3",
   "language": "python",
   "name": "python3"
  },
  "language_info": {
   "codemirror_mode": {
    "name": "ipython",
    "version": 3
   },
   "file_extension": ".py",
   "mimetype": "text/x-python",
   "name": "python",
   "nbconvert_exporter": "python",
   "pygments_lexer": "ipython3",
   "version": "3.8.10"
  }
 },
 "nbformat": 4,
 "nbformat_minor": 5
}
