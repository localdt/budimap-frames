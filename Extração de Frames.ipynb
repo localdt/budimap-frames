{
 "cells": [
  {
   "cell_type": "markdown",
   "id": "64b02cf9",
   "metadata": {},
   "source": [
    "# Extração de Frames #"
   ]
  },
  {
   "cell_type": "markdown",
   "id": "ae995061",
   "metadata": {},
   "source": [
    "Inserir vídeo e extrair imagens frame a frame"
   ]
  },
  {
   "cell_type": "code",
   "execution_count": 54,
   "id": "bc059bb6",
   "metadata": {},
   "outputs": [],
   "source": [
    "import cv2\n",
    "import os.path as osp\n",
    "import os"
   ]
  },
  {
   "cell_type": "code",
   "execution_count": 55,
   "id": "29873216",
   "metadata": {},
   "outputs": [],
   "source": [
    "path_in = \"C:\\\\Users\\\\LDT\\\\Documents\\\\GitHub\\\\budimap-frames\\\\input\\\\\"\n",
    "path_out = \"C:\\\\Users\\\\LDT\\\\Documents\\\\GitHub\\\\budimap-frames\\\\output\\\\\"\n"
   ]
  },
  {
   "cell_type": "code",
   "execution_count": 75,
   "id": "33b355fa",
   "metadata": {},
   "outputs": [],
   "source": [
    "folders_path_in = [name for name in os.listdir(path_in) if os.path.isdir(os.path.join(path_in, name))]\n",
    "\n",
    "for folder_path_in in folders_path_in:\n",
    "    folder_path_out = os.path.join(path_out,folder_path_in)\n",
    "        \n",
    "    files_path_in = [name for name in os.listdir(os.path.join(path_in,folder_path_in)) if os.path.isfile(os.path.join(path_in, folder_path_in, name))]\n",
    "    for file_path_in in files_path_in:\n",
    "        \n",
    "        new_path_in = os.path.join(path_in, folder_path_in, file_path_in)\n",
    "        new_path_out = os.path.join(folder_path_out, file_path_in[:-4])\n",
    "        os.makedirs(new_path_out, exist_ok = True)\n",
    "        \n",
    "        \n",
    "        vidcap = cv2.VideoCapture(new_path_in)\n",
    "\n",
    "        cont,image = vidcap.read()\n",
    "        i = 0\n",
    "        while cont:\n",
    "            if i%3 == 0:\n",
    "                cv2.imwrite(osp.join(new_path_out,\"frame_%d.png\" % i), image)     #salvar frame em .png\n",
    "            cont,image = vidcap.read()\n",
    "            i += 1\n",
    "    \n",
    "\n",
    "       \n"
   ]
  },
  {
   "cell_type": "code",
   "execution_count": null,
   "id": "e9ac2f78",
   "metadata": {},
   "outputs": [],
   "source": []
  }
 ],
 "metadata": {
  "kernelspec": {
   "display_name": "Python 3",
   "language": "python",
   "name": "python3"
  },
  "language_info": {
   "codemirror_mode": {
    "name": "ipython",
    "version": 3
   },
   "file_extension": ".py",
   "mimetype": "text/x-python",
   "name": "python",
   "nbconvert_exporter": "python",
   "pygments_lexer": "ipython3",
   "version": "3.8.10"
  }
 },
 "nbformat": 4,
 "nbformat_minor": 5
}
