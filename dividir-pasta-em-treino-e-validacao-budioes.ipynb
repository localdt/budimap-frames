{
 "cells": [
  {
   "cell_type": "code",
   "execution_count": 1,
   "id": "b9c5c19f",
   "metadata": {},
   "outputs": [],
   "source": [
    "import os\n",
    "import random\n",
    "import numpy as np\n",
    "import shutil\n",
    "\n",
    "IN_FOLDER = 'C:\\\\Users\\\\LDT\\\\Desktop\\\\mestrado-unifesp\\\\db\\\\train'\n",
    "OUT_VAL = 'C:\\\\Users\\\\LDT\\\\Desktop\\\\mestrado-unifesp\\\\db\\\\val'\n",
    "\n",
    "subdir = [f for f in os.listdir(IN_FOLDER) if os.path.isdir(os.path.join(IN_FOLDER,f))]\n",
    "#Varre todos os subdiretórios\n",
    "for s in subdir:\n",
    "\n",
    "    pats = [f for f in os.listdir(os.path.join(IN_FOLDER,s)) \n",
    "            #Seleciona somente imagens com as extensões definidas\n",
    "            if os.path.isfile(os.path.join(IN_FOLDER, s,f)) and \n",
    "            os.path.splitext(f)[1].upper() in ['.PNG', '.TIFF', '.JPG','.JPEG']]\n",
    "    #Seleciona quanto é 20% do total de imagens\n",
    "    sel = int(np.ceil(len(pats) * 0.2))\n",
    "    #Extrai 20% do total de imagens aleatoriamente\n",
    "    val_pats = random.sample(pats,sel)\n",
    "    #Cria a pasta VAL\n",
    "    os.makedirs(os.path.join(OUT_VAL,s), exist_ok=True)\n",
    "    #Move os arquivos da pasta TRAIN para pasta VAL (apenas o 20% selecionado)\n",
    "    for f in val_pats:\n",
    "        shutil.move(os.path.join(IN_FOLDER, s,f), os.path.join(OUT_VAL,s,f))"
   ]
  },
  {
   "cell_type": "code",
   "execution_count": null,
   "id": "6667b771",
   "metadata": {},
   "outputs": [],
   "source": []
  }
 ],
 "metadata": {
  "kernelspec": {
   "display_name": "Python 3 (ipykernel)",
   "language": "python",
   "name": "python3"
  },
  "language_info": {
   "codemirror_mode": {
    "name": "ipython",
    "version": 3
   },
   "file_extension": ".py",
   "mimetype": "text/x-python",
   "name": "python",
   "nbconvert_exporter": "python",
   "pygments_lexer": "ipython3",
   "version": "3.9.18"
  }
 },
 "nbformat": 4,
 "nbformat_minor": 5
}
